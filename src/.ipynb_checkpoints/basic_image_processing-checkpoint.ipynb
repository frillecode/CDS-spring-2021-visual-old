{
 "cells": [
  {
   "cell_type": "markdown",
   "metadata": {},
   "source": [
    "# Assignment 1\n",
    "## Task\n",
    "Basic scripting with Python\n",
    "\n",
    "Create or find small dataset of images, using an online data source such as Kaggle. At the very least, your dataset should contain no fewer than 10 images.\n",
    "\n",
    "\n",
    "\n",
    "Write a Python script which does the following:\n",
    "\n",
    "- For each image, find the width, height, and number of channels\n",
    "- For each image, split image into four equal-sized quadrants (i.e. top-left, top-right, bottom-left, bottom-right)\n",
    "- Save each of the split images in JPG format\n",
    "- Create and save a file containing the filename, width, height for all of the new images."
   ]
  },
  {
   "cell_type": "markdown",
   "metadata": {},
   "source": [
    "## Answers"
   ]
  },
  {
   "cell_type": "markdown",
   "metadata": {},
   "source": [
    "First, we load the necessary libraries and modules"
   ]
  },
  {
   "cell_type": "code",
   "execution_count": 1,
   "metadata": {},
   "outputs": [],
   "source": [
    "import os \n",
    "import numpy as np\n",
    "import sys\n",
    "sys.path.append(os.path.join(\"..\"))\n",
    "import cv2 #openCV\n",
    "from utils.imutils import jimshow\n",
    "from pathlib import Path"
   ]
  },
  {
   "cell_type": "markdown",
   "metadata": {},
   "source": [
    "Now, we specify the path to the folder in which the images reside"
   ]
  },
  {
   "cell_type": "code",
   "execution_count": 2,
   "metadata": {},
   "outputs": [],
   "source": [
    "path_to_image = os.path.join(\"..\", \"data\", \"data_assignment1\")"
   ]
  },
  {
   "cell_type": "markdown",
   "metadata": {},
   "source": [
    "Here, we loop through each of the image files and 1) find height, width, and number of classes, 2) split image into four equal-sized quadrants, 3) save the four quadrants as .jpg-files, and 4) save a .txt-file with information on these quadrants. For each image, this will, thus, create four new .jpg-files with the quadrants and one .txt-file with the filename of the original image and width and height of the four quadrants of this image. Each quadrant is saved under the name \"{filename_of_original_image}\\_quadrant_{quadrant_number}.jpg\". Each .txt-file is saved under the name \"{filename_of_original_image}\\_split_info.txt\""
   ]
  },
  {
   "cell_type": "code",
   "execution_count": 3,
   "metadata": {},
   "outputs": [],
   "source": [
    "for filepath in Path(path_to_image).glob(\"*.jpg\"):\n",
    "    # Loading image file \n",
    "    image = cv2.imread(str(filepath))\n",
    "    \n",
    "    # Extract filename\n",
    "    filename = os.path.basename(filepath)\n",
    "    filename = os.path.splitext(filename)[0]\n",
    "    \n",
    "    # Calculate height, width, and number of channels\n",
    "    height = image.shape[0]\n",
    "    width = image.shape[1]\n",
    "    n_channels = image.shape[2]\n",
    "    \n",
    "    # Splitting image into four equal-sized quadrants\n",
    "    quad_images = [image[0:int(height/2), 0:int(width/2)],\n",
    "                  image[0:int(height/2), int(width/2):int(width)],\n",
    "                  image[int(height/2):int(height), 0:int(width/2)],\n",
    "                  image[int(height/2):int(height), int(width/2):int(width)]]\n",
    "    \n",
    "    # Save each quadrant in JPG format and create and save a file containing the filename, width, height for all of the new images\n",
    "    new_filepath = os.path.split(path_to_image)[0] #extracting info for new filepath\n",
    "    quadrant_info = [] #empty list for content of .txt-file\n",
    "    \n",
    "    for quadrant in range(len(quad_images)): #looping through each quadrant image\n",
    "        quadrant_filename = f\"{filename}_quadrant_{quadrant}.jpg\" #specifying filename for quadrant image\n",
    "        \n",
    "        outfile = os.path.join(new_filepath, quadrant_filename) #specifying filepath for quadrant image\n",
    "        cv2.imwrite(outfile, quad_images[quadrant]) #saving quadrant image\n",
    "        \n",
    "        quadrant_info.append(f\"Filename: {quadrant_filename}, height: {height/2}, width: {width/2}. \") #adding info on quadrant image to list\n",
    "    \n",
    "    #add info of all new images to a single .txt-file. '\\n' ensures that info on each image is on a new line in the file\n",
    "    info_file = f\"{quadrant_info[0]}\\n{quadrant_info[1]}\\n{quadrant_info[2]}\\n{quadrant_info[3]}\" \n",
    "    \n",
    "    outpath = os.path.join(new_filepath, f\"{filename}_split_info.txt\") #specifying path to save .txt-file\n",
    "    with open(outpath, \"w\", encoding = \"utf-8\") as file: #saving .txt-file\n",
    "        file.write(info_file)\n",
    "    \n",
    "    "
   ]
  },
  {
   "cell_type": "markdown",
   "metadata": {},
   "source": [
    "After running the code chunks above, you should be able to see the new files in the same folder as this notebook."
   ]
  }
 ],
 "metadata": {
  "kernelspec": {
   "display_name": "cv101",
   "language": "python",
   "name": "cv101"
  },
  "language_info": {
   "codemirror_mode": {
    "name": "ipython",
    "version": 3
   },
   "file_extension": ".py",
   "mimetype": "text/x-python",
   "name": "python",
   "nbconvert_exporter": "python",
   "pygments_lexer": "ipython3",
   "version": "3.6.9"
  }
 },
 "nbformat": 4,
 "nbformat_minor": 4
}
